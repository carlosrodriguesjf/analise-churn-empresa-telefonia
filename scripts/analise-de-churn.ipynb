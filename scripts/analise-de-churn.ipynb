{
 "cells": [
  {
   "cell_type": "markdown",
   "metadata": {},
   "source": [
    "# Análise de Churn\n",
    "\n",
    "### Definição do problema\n",
    "\n",
    "A retenção de clientes é um dos desafios mais críticos para empresas que operam em mercados competitivos. O churn, ou taxa de cancelamento de clientes, representa a proporção de clientes que deixam de utilizar um serviço dentro de um determinado período. Compreender os fatores que influenciam o churn é essencial para que as empresas desenvolvam estratégias eficazes de retenção, reduzindo perdas e maximizando a receita.\n",
    "\n",
    "Neste projeto, realizaremos uma análise detalhada do comportamento dos clientes com base em um conjunto de dados contendo informações como idade, tempo de contrato, frequência de uso, total gasto, interações com o call center e outras variáveis relevantes. O objetivo é identificar padrões que diferenciam clientes que permanecem dos que cancelam, permitindo a criação de estratégias para minimizar o churn.\n",
    "\n",
    "Por meio de estatísticas descritivas, visualizações de dados e modelagem preditiva, buscamos responder às seguintes perguntas-chave:\n",
    "- Quais características dos clientes estão mais associadas ao churn?\n",
    "- Clientes com maior tempo de contrato têm menor probabilidade de cancelar?\n",
    "- Qual o impacto das interações com o call center na retenção?\n",
    "- O valor total gasto influencia a decisão de cancelar o serviço?\n",
    "- Ao final da análise, apresentaremos insights e recomendações práticas para reduzir o churn e melhorar a experiência do cliente."
   ]
  },
  {
   "cell_type": "markdown",
   "metadata": {},
   "source": [
    "## Dicionário de dados"
   ]
  },
  {
   "cell_type": "markdown",
   "metadata": {},
   "source": [
    "**Dicionário de dados** para a sua tabela:  \n",
    "\n",
    "| Nome da Variável            | Tipo       | Descrição |\n",
    "|-----------------------------|-----------|-----------|\n",
    "| **CustomerID**              | Inteiro    | Identificação única do cliente. |\n",
    "| **idade**                   | Inteiro    | Idade do cliente (em anos). |\n",
    "| **sexo**                    | Categórico | Gênero do cliente (ex.: \"M\" para masculino, \"F\" para feminino). |\n",
    "| **tempo_como_cliente**       | Inteiro    | Tempo total (em meses) que o cliente está com a empresa. |\n",
    "| **frequencia_uso**           | Numérico   | Frequência média de uso do serviço pelo cliente. |\n",
    "| **ligacoes_callcenter**      | Inteiro    | Número de ligações realizadas para o call center. |\n",
    "| **dias_atraso**             | Inteiro    | Número de dias que o cliente já atrasou pagamentos. |\n",
    "| **assinatura**               | Categórico | Tipo de plano/assinatura do cliente (ex.: \"Pré-pago\", \"Pós-pago\", \"Controle\"). |\n",
    "| **duracao_contrato**         | Inteiro    | Duração total do contrato do cliente (em meses). |\n",
    "| **total_gasto**              | Numérico   | Valor total gasto pelo cliente durante o período com a empresa. |\n",
    "| **meses_ultima_interacao**   | Inteiro    | Tempo (em meses) desde a última interação do cliente com a empresa. |\n",
    "| **cancelou**                 | Binário    | Indica se o cliente cancelou o serviço (1 = Sim, 0 = Não). |\n"
   ]
  },
  {
   "cell_type": "markdown",
   "metadata": {},
   "source": [
    "### 2. Exploração de dadoss\n",
    "\n",
    "- Analise a distribuição das variáveis:\n",
    "    - Idade dos clientes\n",
    "    - Frequência de uso\n",
    "    - Total gasto\n",
    "    - Tempo como cliente\n",
    "- Verifique possíveis outliers que possam distorcer a análise."
   ]
  },
  {
   "cell_type": "code",
   "execution_count": 32,
   "metadata": {},
   "outputs": [],
   "source": [
    "# importando a base dados\n",
    "import pandas as pd\n",
    "import plotly.express as px\n"
   ]
  },
  {
   "cell_type": "code",
   "execution_count": 33,
   "metadata": {},
   "outputs": [],
   "source": [
    "# carregando os dados\n",
    "tabela = pd.read_csv(r'C:\\projetos\\analise-churn-empresa-telefonia\\dados\\cancelamentos.csv')"
   ]
  },
  {
   "cell_type": "code",
   "execution_count": 34,
   "metadata": {},
   "outputs": [
    {
     "data": {
      "text/html": [
       "<div>\n",
       "<style scoped>\n",
       "    .dataframe tbody tr th:only-of-type {\n",
       "        vertical-align: middle;\n",
       "    }\n",
       "\n",
       "    .dataframe tbody tr th {\n",
       "        vertical-align: top;\n",
       "    }\n",
       "\n",
       "    .dataframe thead th {\n",
       "        text-align: right;\n",
       "    }\n",
       "</style>\n",
       "<table border=\"1\" class=\"dataframe\">\n",
       "  <thead>\n",
       "    <tr style=\"text-align: right;\">\n",
       "      <th></th>\n",
       "      <th>CustomerID</th>\n",
       "      <th>idade</th>\n",
       "      <th>sexo</th>\n",
       "      <th>tempo_como_cliente</th>\n",
       "      <th>frequencia_uso</th>\n",
       "      <th>ligacoes_callcenter</th>\n",
       "      <th>dias_atraso</th>\n",
       "      <th>assinatura</th>\n",
       "      <th>duracao_contrato</th>\n",
       "      <th>total_gasto</th>\n",
       "      <th>meses_ultima_interacao</th>\n",
       "      <th>cancelou</th>\n",
       "    </tr>\n",
       "  </thead>\n",
       "  <tbody>\n",
       "    <tr>\n",
       "      <th>0</th>\n",
       "      <td>2.0</td>\n",
       "      <td>30.0</td>\n",
       "      <td>Female</td>\n",
       "      <td>39.0</td>\n",
       "      <td>14.0</td>\n",
       "      <td>5.0</td>\n",
       "      <td>18.0</td>\n",
       "      <td>Standard</td>\n",
       "      <td>Annual</td>\n",
       "      <td>932.0</td>\n",
       "      <td>17.0</td>\n",
       "      <td>1.0</td>\n",
       "    </tr>\n",
       "    <tr>\n",
       "      <th>1</th>\n",
       "      <td>3.0</td>\n",
       "      <td>65.0</td>\n",
       "      <td>Female</td>\n",
       "      <td>49.0</td>\n",
       "      <td>1.0</td>\n",
       "      <td>10.0</td>\n",
       "      <td>8.0</td>\n",
       "      <td>Basic</td>\n",
       "      <td>Monthly</td>\n",
       "      <td>557.0</td>\n",
       "      <td>6.0</td>\n",
       "      <td>1.0</td>\n",
       "    </tr>\n",
       "    <tr>\n",
       "      <th>2</th>\n",
       "      <td>4.0</td>\n",
       "      <td>55.0</td>\n",
       "      <td>Female</td>\n",
       "      <td>14.0</td>\n",
       "      <td>4.0</td>\n",
       "      <td>6.0</td>\n",
       "      <td>18.0</td>\n",
       "      <td>Basic</td>\n",
       "      <td>Quarterly</td>\n",
       "      <td>185.0</td>\n",
       "      <td>3.0</td>\n",
       "      <td>1.0</td>\n",
       "    </tr>\n",
       "    <tr>\n",
       "      <th>3</th>\n",
       "      <td>5.0</td>\n",
       "      <td>58.0</td>\n",
       "      <td>Male</td>\n",
       "      <td>38.0</td>\n",
       "      <td>21.0</td>\n",
       "      <td>7.0</td>\n",
       "      <td>7.0</td>\n",
       "      <td>Standard</td>\n",
       "      <td>Monthly</td>\n",
       "      <td>396.0</td>\n",
       "      <td>29.0</td>\n",
       "      <td>1.0</td>\n",
       "    </tr>\n",
       "    <tr>\n",
       "      <th>4</th>\n",
       "      <td>6.0</td>\n",
       "      <td>23.0</td>\n",
       "      <td>Male</td>\n",
       "      <td>32.0</td>\n",
       "      <td>20.0</td>\n",
       "      <td>5.0</td>\n",
       "      <td>8.0</td>\n",
       "      <td>Basic</td>\n",
       "      <td>Monthly</td>\n",
       "      <td>617.0</td>\n",
       "      <td>20.0</td>\n",
       "      <td>1.0</td>\n",
       "    </tr>\n",
       "  </tbody>\n",
       "</table>\n",
       "</div>"
      ],
      "text/plain": [
       "   CustomerID  idade    sexo  tempo_como_cliente  frequencia_uso  \\\n",
       "0         2.0   30.0  Female                39.0            14.0   \n",
       "1         3.0   65.0  Female                49.0             1.0   \n",
       "2         4.0   55.0  Female                14.0             4.0   \n",
       "3         5.0   58.0    Male                38.0            21.0   \n",
       "4         6.0   23.0    Male                32.0            20.0   \n",
       "\n",
       "   ligacoes_callcenter  dias_atraso assinatura duracao_contrato  total_gasto  \\\n",
       "0                  5.0         18.0   Standard           Annual        932.0   \n",
       "1                 10.0          8.0      Basic          Monthly        557.0   \n",
       "2                  6.0         18.0      Basic        Quarterly        185.0   \n",
       "3                  7.0          7.0   Standard          Monthly        396.0   \n",
       "4                  5.0          8.0      Basic          Monthly        617.0   \n",
       "\n",
       "   meses_ultima_interacao  cancelou  \n",
       "0                    17.0       1.0  \n",
       "1                     6.0       1.0  \n",
       "2                     3.0       1.0  \n",
       "3                    29.0       1.0  \n",
       "4                    20.0       1.0  "
      ]
     },
     "execution_count": 34,
     "metadata": {},
     "output_type": "execute_result"
    }
   ],
   "source": [
    "tabela.head()"
   ]
  },
  {
   "cell_type": "code",
   "execution_count": 35,
   "metadata": {},
   "outputs": [
    {
     "data": {
      "text/plain": [
       "(881666, 12)"
      ]
     },
     "execution_count": 35,
     "metadata": {},
     "output_type": "execute_result"
    }
   ],
   "source": [
    "# verificando quantos registros e variáveis\n",
    "tabela.shape"
   ]
  },
  {
   "cell_type": "code",
   "execution_count": 36,
   "metadata": {},
   "outputs": [
    {
     "data": {
      "text/plain": [
       "Index(['CustomerID', 'idade', 'sexo', 'tempo_como_cliente', 'frequencia_uso',\n",
       "       'ligacoes_callcenter', 'dias_atraso', 'assinatura', 'duracao_contrato',\n",
       "       'total_gasto', 'meses_ultima_interacao', 'cancelou'],\n",
       "      dtype='object')"
      ]
     },
     "execution_count": 36,
     "metadata": {},
     "output_type": "execute_result"
    }
   ],
   "source": [
    "# nome das colunas\n",
    "tabela.columns"
   ]
  },
  {
   "cell_type": "code",
   "execution_count": 37,
   "metadata": {},
   "outputs": [
    {
     "name": "stdout",
     "output_type": "stream",
     "text": [
      "<class 'pandas.core.frame.DataFrame'>\n",
      "RangeIndex: 881666 entries, 0 to 881665\n",
      "Data columns (total 12 columns):\n",
      " #   Column                  Non-Null Count   Dtype  \n",
      "---  ------                  --------------   -----  \n",
      " 0   CustomerID              881664 non-null  float64\n",
      " 1   idade                   881664 non-null  float64\n",
      " 2   sexo                    881664 non-null  object \n",
      " 3   tempo_como_cliente      881663 non-null  float64\n",
      " 4   frequencia_uso          881663 non-null  float64\n",
      " 5   ligacoes_callcenter     881664 non-null  float64\n",
      " 6   dias_atraso             881664 non-null  float64\n",
      " 7   assinatura              881661 non-null  object \n",
      " 8   duracao_contrato        881663 non-null  object \n",
      " 9   total_gasto             881664 non-null  float64\n",
      " 10  meses_ultima_interacao  881664 non-null  float64\n",
      " 11  cancelou                881664 non-null  float64\n",
      "dtypes: float64(9), object(3)\n",
      "memory usage: 80.7+ MB\n"
     ]
    }
   ],
   "source": [
    "# informações\n",
    "tabela.info()"
   ]
  },
  {
   "cell_type": "code",
   "execution_count": 38,
   "metadata": {},
   "outputs": [
    {
     "data": {
      "text/plain": [
       "CustomerID                2\n",
       "idade                     2\n",
       "sexo                      2\n",
       "tempo_como_cliente        3\n",
       "frequencia_uso            3\n",
       "ligacoes_callcenter       2\n",
       "dias_atraso               2\n",
       "assinatura                5\n",
       "duracao_contrato          3\n",
       "total_gasto               2\n",
       "meses_ultima_interacao    2\n",
       "cancelou                  2\n",
       "dtype: int64"
      ]
     },
     "execution_count": 38,
     "metadata": {},
     "output_type": "execute_result"
    }
   ],
   "source": [
    "# verificando se existem dados nulos\n",
    "tabela.isnull().sum()"
   ]
  },
  {
   "cell_type": "code",
   "execution_count": 39,
   "metadata": {},
   "outputs": [],
   "source": [
    "# removendo os valores vazios\n",
    "tabela = tabela.dropna()"
   ]
  },
  {
   "cell_type": "code",
   "execution_count": 40,
   "metadata": {},
   "outputs": [
    {
     "data": {
      "text/plain": [
       "(881659, 12)"
      ]
     },
     "execution_count": 40,
     "metadata": {},
     "output_type": "execute_result"
    }
   ],
   "source": [
    "# conferindo a  nova quantidade de registros\n",
    "tabela.shape"
   ]
  },
  {
   "cell_type": "code",
   "execution_count": 41,
   "metadata": {},
   "outputs": [
    {
     "data": {
      "text/plain": [
       "CustomerID                0\n",
       "idade                     0\n",
       "sexo                      0\n",
       "tempo_como_cliente        0\n",
       "frequencia_uso            0\n",
       "ligacoes_callcenter       0\n",
       "dias_atraso               0\n",
       "assinatura                0\n",
       "duracao_contrato          0\n",
       "total_gasto               0\n",
       "meses_ultima_interacao    0\n",
       "cancelou                  0\n",
       "dtype: int64"
      ]
     },
     "execution_count": 41,
     "metadata": {},
     "output_type": "execute_result"
    }
   ],
   "source": [
    "# conferindo se os valores nulos foram removidos\n",
    "tabela.isnull().sum()"
   ]
  },
  {
   "cell_type": "code",
   "execution_count": 42,
   "metadata": {},
   "outputs": [],
   "source": [
    "# removendo a coluna CustomerID\n",
    "tabela.drop(columns='CustomerID', axis=1, inplace=True)"
   ]
  },
  {
   "cell_type": "code",
   "execution_count": 43,
   "metadata": {},
   "outputs": [
    {
     "name": "stdout",
     "output_type": "stream",
     "text": [
      "cancelou\n",
      "1.0    499993\n",
      "0.0    381666\n",
      "Name: count, dtype: int64\n",
      "cancelou\n",
      "1.0    56.71%\n",
      "0.0    43.29%\n",
      "Name: proportion, dtype: object\n"
     ]
    }
   ],
   "source": [
    "# calculando a quantidade de cancelamentos \n",
    "print(tabela['cancelou'].value_counts())\n",
    "print(tabela['cancelou'].value_counts(normalize=True).map(\"{:.2%}\".format))\n"
   ]
  },
  {
   "cell_type": "code",
   "execution_count": 44,
   "metadata": {},
   "outputs": [],
   "source": [
    "# # Vamos através de graficos verificar a relação entre as variáveis e o cancelamento\n",
    "# for variavel in tabela.columns:\n",
    "#     print(f'{variavel.upper()}:')\n",
    "#     #display(tabela.groupby(variavel).mean(numeric_only=True))\n",
    "#     grafico = px.histogram(tabela, x=variavel, color='cancelou', color_discrete_map={1.0: \"red\", 0.0:\"blue\" })\n",
    "#     grafico.show()\n",
    "#     print(100*'--------')"
   ]
  },
  {
   "cell_type": "markdown",
   "metadata": {},
   "source": [
    "## 3. Análise Univariada\n",
    "- Estatísticas descritivas para entender cada variável.\n",
    "- Histogramas e boxplots para variáveis numéricas.\n",
    "- Contagem de categorias para variáveis categóricas (sexo, assinatura, cancelou)."
   ]
  },
  {
   "cell_type": "markdown",
   "metadata": {},
   "source": [
    "#### Cenário 1: Excluir todos os planos Mensais"
   ]
  },
  {
   "cell_type": "code",
   "execution_count": 45,
   "metadata": {},
   "outputs": [
    {
     "data": {
      "text/plain": [
       "cancelou\n",
       "0.0    0.539492\n",
       "1.0    0.460508\n",
       "Name: proportion, dtype: float64"
      ]
     },
     "execution_count": 45,
     "metadata": {},
     "output_type": "execute_result"
    }
   ],
   "source": [
    "## excluindo os clientes do plano mensal para verificar como ficaria a distribuição dos cancelamentos\n",
    "tabela_filtro_assinatura = tabela.loc[tabela['duracao_contrato'] !='Monthly',:]\n",
    "tabela_filtro_assinatura['cancelou'].value_counts()\n",
    "tabela_filtro_assinatura['cancelou'].value_counts(normalize=True)"
   ]
  },
  {
   "cell_type": "markdown",
   "metadata": {},
   "source": [
    "#### Cenário 2: Excluir todos os clientes que ligaram mais de 5 vezes"
   ]
  },
  {
   "cell_type": "code",
   "execution_count": 46,
   "metadata": {},
   "outputs": [
    {
     "data": {
      "text/plain": [
       "cancelou\n",
       "0.0    0.592066\n",
       "1.0    0.407934\n",
       "Name: proportion, dtype: float64"
      ]
     },
     "execution_count": 46,
     "metadata": {},
     "output_type": "execute_result"
    }
   ],
   "source": [
    "# excluindo os clientes que ligaram mais de 5 vezes\n",
    "tabela_filtro_ligacoes = tabela.loc[tabela['ligacoes_callcenter'] <= 5,:]\n",
    "tabela_filtro_ligacoes['cancelou'].value_counts()\n",
    "tabela_filtro_ligacoes['cancelou'].value_counts(normalize=True)"
   ]
  },
  {
   "cell_type": "markdown",
   "metadata": {},
   "source": [
    "#### Cenário 3 : Excluir todos os clientes que atrasaram o pagamento mais de 20 dias"
   ]
  },
  {
   "cell_type": "code",
   "execution_count": 47,
   "metadata": {},
   "outputs": [
    {
     "data": {
      "text/plain": [
       "cancelou\n",
       "0.0    0.534845\n",
       "1.0    0.465155\n",
       "Name: proportion, dtype: float64"
      ]
     },
     "execution_count": 47,
     "metadata": {},
     "output_type": "execute_result"
    }
   ],
   "source": [
    "# excluindo os clientes que atrasaram mais de 20 dias\n",
    "tabela_filtro_dias_atraso = tabela.loc[tabela['dias_atraso'] <= 20,:]\n",
    "tabela_filtro_dias_atraso['cancelou'].value_counts()\n",
    "tabela_filtro_dias_atraso['cancelou'].value_counts(normalize=True)"
   ]
  },
  {
   "cell_type": "markdown",
   "metadata": {},
   "source": [
    "#### Cenário 4: Excluir todos os clientes acima de 50 anos"
   ]
  },
  {
   "cell_type": "code",
   "execution_count": 48,
   "metadata": {},
   "outputs": [
    {
     "data": {
      "text/plain": [
       "cancelou\n",
       "0.0    0.531308\n",
       "1.0    0.468692\n",
       "Name: proportion, dtype: float64"
      ]
     },
     "execution_count": 48,
     "metadata": {},
     "output_type": "execute_result"
    }
   ],
   "source": [
    "# excluindo os clientes acima de 50 anos\n",
    "tabela_filtro_idade = tabela.loc[tabela['idade'] <= 50,:]\n",
    "tabela_filtro_idade['cancelou'].value_counts()\n",
    "tabela_filtro_idade['cancelou'].value_counts(normalize=True)"
   ]
  },
  {
   "cell_type": "markdown",
   "metadata": {},
   "source": [
    "## 4. Análise Bivariada (Churn vs Outras Variáveis)\n",
    "- Compare as características dos clientes que cancelaram (cancelou = 1) com os que não cancelaram (cancelou = 0).\n",
    "- Idade média dos que cancelam vs. os que permanecem.\n",
    "- Relação entre total gasto e cancelamento.\n",
    "- Clientes que mais ligam para o call center têm maior taxa de churn?\n",
    "- Clientes com mais tempo de contrato têm menor chance de cancelar?"
   ]
  },
  {
   "cell_type": "markdown",
   "metadata": {},
   "source": [
    "#### Cenário 6: Excluir todos os clientes do plano mensal e que ligaram mais de 5 vezes "
   ]
  },
  {
   "cell_type": "code",
   "execution_count": 49,
   "metadata": {},
   "outputs": [
    {
     "data": {
      "text/plain": [
       "cancelou\n",
       "0.0    0.694777\n",
       "1.0    0.305223\n",
       "Name: proportion, dtype: float64"
      ]
     },
     "execution_count": 49,
     "metadata": {},
     "output_type": "execute_result"
    }
   ],
   "source": [
    "## excluindo os clientes do plano mensal para verificar como ficaria a distribuição dos cancelamentos\n",
    "tabela_filtro_assinatura_e_ligacaoes = tabela.loc[(tabela['duracao_contrato'] !='Monthly') & (tabela['ligacoes_callcenter'] <= 5),:]\n",
    "tabela_filtro_assinatura_e_ligacaoes['cancelou'].value_counts()\n",
    "tabela_filtro_assinatura_e_ligacaoes['cancelou'].value_counts(normalize=True)"
   ]
  },
  {
   "cell_type": "markdown",
   "metadata": {},
   "source": [
    "#### Cenário 7: Excluir todos os clientes do plano mensal e que atrasaram o pagamento mais de 20 dias"
   ]
  },
  {
   "cell_type": "code",
   "execution_count": 50,
   "metadata": {},
   "outputs": [
    {
     "data": {
      "text/plain": [
       "cancelou\n",
       "0.0    0.640875\n",
       "1.0    0.359125\n",
       "Name: proportion, dtype: float64"
      ]
     },
     "execution_count": 50,
     "metadata": {},
     "output_type": "execute_result"
    }
   ],
   "source": [
    "#### excluindo os clientes do plano mensal e que atrasaram o pagamento mais de 20 dias\n",
    "tabela_filtro_assinatura_e_dias_atraso = tabela.loc[(tabela['duracao_contrato'] !='Monthly') & (tabela['dias_atraso'] <= 20),:]\n",
    "tabela_filtro_assinatura_e_ligacaoes['cancelou'].value_counts()\n",
    "tabela_filtro_assinatura_e_dias_atraso['cancelou'].value_counts(normalize=True)"
   ]
  },
  {
   "cell_type": "markdown",
   "metadata": {},
   "source": [
    "### Cenário 8: Excluir todos os clientes do plano mensal e com idade acima de 50 anos"
   ]
  },
  {
   "cell_type": "code",
   "execution_count": 51,
   "metadata": {},
   "outputs": [
    {
     "data": {
      "text/plain": [
       "cancelou\n",
       "0.0    0.637006\n",
       "1.0    0.362994\n",
       "Name: proportion, dtype: float64"
      ]
     },
     "execution_count": 51,
     "metadata": {},
     "output_type": "execute_result"
    }
   ],
   "source": [
    "## excluindo os clientes do plano mensal e com idade acima de 50 anos\n",
    "tabela_filtro_assinatura_e_idade = tabela.loc[(tabela['duracao_contrato'] !='Monthly') & (tabela['idade'] <= 50),:]\n",
    "tabela_filtro_assinatura_e_idade['cancelou'].value_counts()\n",
    "tabela_filtro_assinatura_e_idade['cancelou'].value_counts(normalize=True)"
   ]
  },
  {
   "cell_type": "markdown",
   "metadata": {},
   "source": [
    "## 4. Análise Multivariáveis (Churn vs Outras Variáveis)\n",
    "- Compare as características dos clientes que cancelaram (cancelou = 1) com os que não cancelaram (cancelou = 0).\n",
    "- Idade média dos que cancelam vs. os que permanecem.\n",
    "- Relação entre total gasto e cancelamento.\n",
    "- Clientes que mais ligam para o call center têm maior taxa de churn?\n",
    "- Clientes com mais tempo de contrato têm menor chance de cancelar?"
   ]
  },
  {
   "cell_type": "markdown",
   "metadata": {},
   "source": [
    "#### Cenário 9: Excluir os clientes do plano mensal e que atrasaram o pagamento mais de 20 dias e que ligaram mais de 5 vezes "
   ]
  },
  {
   "cell_type": "code",
   "execution_count": 52,
   "metadata": {},
   "outputs": [
    {
     "data": {
      "text/plain": [
       "cancelou\n",
       "0.0    0.781358\n",
       "1.0    0.218642\n",
       "Name: proportion, dtype: float64"
      ]
     },
     "execution_count": 52,
     "metadata": {},
     "output_type": "execute_result"
    }
   ],
   "source": [
    "## excluindo os clientes do plano mensal e que atrasaram o pagamento mais de 20 dias e que ligaram mais de 5 vezes \n",
    "tabela_filtro_assinatura_e_dias_atraso_ligacoes = tabela.loc[(tabela['duracao_contrato'] !='Monthly') & (tabela['dias_atraso'] <= 20) & (tabela['ligacoes_callcenter'] <= 5) ,:]\n",
    "tabela_filtro_assinatura_e_dias_atraso_ligacoes['cancelou'].value_counts()\n",
    "tabela_filtro_assinatura_e_dias_atraso_ligacoes['cancelou'].value_counts(normalize=True)"
   ]
  },
  {
   "cell_type": "markdown",
   "metadata": {},
   "source": [
    "## 5. Insights e Recomendações\n",
    "- Identificamos que os clientes cancelaram seus planos de acordo com as situações abaixo:\n",
    "    - Todos os clientes do plano Mensal cancelaram\n",
    "    - Clientes com a partir de 51 anos, cancelaram\n",
    "    - Clientes que realizaram, a partir de 5 ligações para o Call Center, cancelaram\n",
    "    - Clientes que tiveram a partir de 21 dias de atraso, cancelaram\n",
    "    \n",
    "- Taxas de cancelamento:\n",
    "    - Taxa de cancelamento = 56,7 %\n",
    "    - Taxa de cancelamento excluindo os clientes do plano mensal = 46 %\n",
    "    - Taxa de cancelamento excluindo todos os clientes que ligaram mais de 5 vezes = 40,8 %\n",
    "    - Taxa de cancelamento excluindo os clientes que atrasaram o pagamento mais de 20 dias ou com idade acima de 50 anos = 46 %\n",
    "    - Taxa de cancelamento excluindo todos os clientes do plano mensal e que ligaram mais de 5 vezes = 30,5 %\n",
    "    - Taxa de cancelamento excluindo os clientes do plano mensal, os que atrasaram o pagamento mais de 20 dias e que ligaram mais de 5 vezes = 21,8 %\n",
    "\n",
    "- Recomendação para redução do Churn:\n",
    "    - Condições melhores para os planos Mensais ou exclusão desses\n",
    "    - Redução da necessidade de muitas ligações para o Call Center\n",
    "    - Acompanhamento próximo das pessoas que atrasarem o pagamento\n"
   ]
  }
 ],
 "metadata": {
  "kernelspec": {
   "display_name": "venv",
   "language": "python",
   "name": "python3"
  },
  "language_info": {
   "codemirror_mode": {
    "name": "ipython",
    "version": 3
   },
   "file_extension": ".py",
   "mimetype": "text/x-python",
   "name": "python",
   "nbconvert_exporter": "python",
   "pygments_lexer": "ipython3",
   "version": "3.13.3"
  },
  "orig_nbformat": 4
 },
 "nbformat": 4,
 "nbformat_minor": 2
}
